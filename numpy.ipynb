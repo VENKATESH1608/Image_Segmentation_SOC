{
 "cells": [
  {
   "cell_type": "markdown",
   "id": "6b91c853-3ec7-4c26-bfb6-41edf6fea0f8",
   "metadata": {},
   "source": [
    "# Data Types"
   ]
  },
  {
   "cell_type": "code",
   "execution_count": 2,
   "id": "0d929657-510b-41b2-943a-3303cb77578a",
   "metadata": {},
   "outputs": [],
   "source": [
    "import numpy as np"
   ]
  },
  {
   "cell_type": "code",
   "execution_count": 3,
   "id": "e7b60ffd-4427-49fa-b8bf-8bd37de3aa4e",
   "metadata": {},
   "outputs": [
    {
     "name": "stdout",
     "output_type": "stream",
     "text": [
      "[1 2 3]\n"
     ]
    }
   ],
   "source": [
    "a=np.array([1,2,3])\n",
    "print(a)"
   ]
  },
  {
   "cell_type": "code",
   "execution_count": 11,
   "id": "a99376fe-afc3-47fb-ade5-b6c4faaac720",
   "metadata": {},
   "outputs": [
    {
     "name": "stdout",
     "output_type": "stream",
     "text": [
      "[[1 2]\n",
      " [3 4]]\n"
     ]
    }
   ],
   "source": [
    "# more than one dimensions\n",
    "a = np.array([[1, 2], [3, 4]])\n",
    "print(a)"
   ]
  },
  {
   "cell_type": "code",
   "execution_count": 7,
   "id": "5318d4ac-6adc-462b-88c9-9eef4aa7eb18",
   "metadata": {},
   "outputs": [
    {
     "name": "stdout",
     "output_type": "stream",
     "text": [
      "[[[1 2 3 4 5]]]\n"
     ]
    }
   ],
   "source": [
    "# minimum dimensions\n",
    "a=np.array([1, 2, 3,4,5], ndmin=3)\n",
    "print(a)"
   ]
  },
  {
   "cell_type": "code",
   "execution_count": 9,
   "id": "a9077c33-c598-4231-a147-f3395e7a91c9",
   "metadata": {},
   "outputs": [
    {
     "name": "stdout",
     "output_type": "stream",
     "text": [
      "[1.+0.j 2.+0.j 3.+0.j]\n"
     ]
    }
   ],
   "source": [
    "# dtype parameter\n",
    "a = np.array([1, 2, 3], dtype=complex)\n",
    "print(a)"
   ]
  },
  {
   "cell_type": "code",
   "execution_count": 17,
   "id": "7e56b854-e5c1-46fe-a1b4-081178852303",
   "metadata": {},
   "outputs": [
    {
     "name": "stdout",
     "output_type": "stream",
     "text": [
      "[ True  True  True  True False]\n"
     ]
    }
   ],
   "source": [
    "# dtype parameter\n",
    "a = np.array([6,5, -1,-95941, 0], dtype=bool)\n",
    "print(a)"
   ]
  },
  {
   "cell_type": "code",
   "execution_count": 19,
   "id": "c4f68f90-0c66-4828-96bc-1be8b6731b79",
   "metadata": {
    "collapsed": true,
    "jupyter": {
     "outputs_hidden": true
    }
   },
   "outputs": [
    {
     "name": "stdout",
     "output_type": "stream",
     "text": [
      "[ 1  2  3 -5]\n"
     ]
    }
   ],
   "source": [
    "# dtype parameter\n",
    "a = np.array([1, 2.0, 3.99999999,-5.9999999999], dtype=int)\n",
    "print(a)"
   ]
  },
  {
   "cell_type": "code",
   "execution_count": 25,
   "id": "35e6305f-00b1-4ac7-8dd5-500c49418848",
   "metadata": {},
   "outputs": [
    {
     "name": "stdout",
     "output_type": "stream",
     "text": [
      "[ 1  2  3 -5]\n"
     ]
    }
   ],
   "source": [
    "# dtype parameter\n",
    "a = np.array([1, 2.0, 3.99999999,-5.9999999999], dtype=np.intc)\n",
    "print(a)"
   ]
  },
  {
   "cell_type": "code",
   "execution_count": 24,
   "id": "c43ffff4-0aa3-4b00-a253-3b22bcd9c486",
   "metadata": {},
   "outputs": [
    {
     "name": "stdout",
     "output_type": "stream",
     "text": [
      "[ 1  2  3 -5]\n",
      "int64\n"
     ]
    }
   ],
   "source": [
    "# dtype parameter\n",
    "a = np.array([1, 2.0, 3.99999999,-5.9999999999], dtype=np.intp)\n",
    "print(a)\n",
    "print(a.dtype)"
   ]
  },
  {
   "cell_type": "code",
   "execution_count": 29,
   "id": "bde56257-3853-4733-8876-0dbcc92ef62e",
   "metadata": {},
   "outputs": [
    {
     "name": "stdout",
     "output_type": "stream",
     "text": [
      "[ 1  2  3 -5]\n"
     ]
    }
   ],
   "source": [
    "# dtype parameter\n",
    "a = np.array([1, 2.0, 3.99999999,-5.9999999999], dtype=np.int8)\n",
    "print(a)"
   ]
  },
  {
   "cell_type": "code",
   "execution_count": 33,
   "id": "e5981ba6-31d1-40f2-a8be-927dc848243c",
   "metadata": {},
   "outputs": [
    {
     "name": "stdout",
     "output_type": "stream",
     "text": [
      "[1 2 3 5]\n"
     ]
    }
   ],
   "source": [
    "# dtype parameter\n",
    "a = np.array([1, 2.0, 3.99999999,+5.9999999999], dtype=np.uint)\n",
    "print(a)"
   ]
  },
  {
   "cell_type": "code",
   "execution_count": 36,
   "id": "ae2a3562-fdcf-4800-a6e9-344ac0b86ff4",
   "metadata": {},
   "outputs": [
    {
     "name": "stdout",
     "output_type": "stream",
     "text": [
      "[ 1.      2.      4.     -6.     -7.9999]\n"
     ]
    }
   ],
   "source": [
    "# dtype parameter\n",
    "a = np.array([1, 2.0, 3.99999999999999,-5.9999999999 , -7.9999], dtype=float)\n",
    "print(a)"
   ]
  },
  {
   "cell_type": "code",
   "execution_count": 37,
   "id": "534c5c33-3c8d-4c4e-bab4-8dfcc5153295",
   "metadata": {},
   "outputs": [
    {
     "name": "stdout",
     "output_type": "stream",
     "text": [
      "[ 1.    +0.j  2.    +0.j  4.    +0.j -6.    +0.j -7.9999+0.j]\n"
     ]
    }
   ],
   "source": [
    "# dtype parameter\n",
    "a = np.array([1, 2.0, 3.99999999999999,-5.9999999999 , -7.9999], dtype=complex)\n",
    "print(a)"
   ]
  },
  {
   "cell_type": "markdown",
   "id": "7f39c1c4-1cd2-4afa-9f48-9570301f997f",
   "metadata": {},
   "source": [
    "# Data Type Objects (dtype)"
   ]
  },
  {
   "cell_type": "code",
   "execution_count": 39,
   "id": "a8f4842c-bd5f-4c0d-b5e6-4f7754c69ebc",
   "metadata": {},
   "outputs": [],
   "source": [
    "# A dtype object is constructed using the following syntax:\n",
    "# numpy.dtype(object, align, copy)"
   ]
  },
  {
   "cell_type": "code",
   "execution_count": 3,
   "id": "dfe7e397-ddcc-4927-989b-5bda092ba286",
   "metadata": {},
   "outputs": [
    {
     "name": "stdout",
     "output_type": "stream",
     "text": [
      "int32\n"
     ]
    }
   ],
   "source": [
    "# using array-scalar type\n",
    "dt=np.dtype(np.int32)\n",
    "print(dt)"
   ]
  },
  {
   "cell_type": "code",
   "execution_count": 6,
   "id": "34bcf388-9055-4816-8ec2-58e67cbd3c5a",
   "metadata": {},
   "outputs": [
    {
     "name": "stdout",
     "output_type": "stream",
     "text": [
      "int64\n"
     ]
    }
   ],
   "source": [
    "#int8, int16, int32, int64 can be replaced by equivalent string 'i1', 'i2','i4', etc.\n",
    "dt = np.dtype('i8')\n",
    "print(dt)"
   ]
  },
  {
   "cell_type": "code",
   "execution_count": 7,
   "id": "7e4ee3b1-f35e-4937-bf1d-9f753c70de2b",
   "metadata": {},
   "outputs": [
    {
     "name": "stdout",
     "output_type": "stream",
     "text": [
      ">i4\n"
     ]
    }
   ],
   "source": [
    "# using endian notation\n",
    "dt = np.dtype('>i4')\n",
    "print(dt)"
   ]
  },
  {
   "cell_type": "code",
   "execution_count": 8,
   "id": "dcdab0ac-0b58-4267-be88-fd83bdb262a9",
   "metadata": {},
   "outputs": [
    {
     "name": "stdout",
     "output_type": "stream",
     "text": [
      "[('age', 'i1')]\n"
     ]
    }
   ],
   "source": [
    "# first create structured data type\n",
    "dt = np.dtype([('age',np.int8)])\n",
    "print(dt)"
   ]
  },
  {
   "cell_type": "code",
   "execution_count": 13,
   "id": "158ed6f5-3bf6-4827-bc41-545c555e4a53",
   "metadata": {},
   "outputs": [
    {
     "name": "stdout",
     "output_type": "stream",
     "text": [
      "[(10,) (20,) (30,)]\n"
     ]
    }
   ],
   "source": [
    "# now apply it to ndarray object\n",
    "dt = np.dtype([('age',np.int8)])\n",
    "a = np.array([(10,),(20,),(30,)], dtype=dt)\n",
    "print(a)"
   ]
  },
  {
   "cell_type": "code",
   "execution_count": 15,
   "id": "032b260d-9856-4d5a-92d0-634004f73f79",
   "metadata": {},
   "outputs": [
    {
     "name": "stdout",
     "output_type": "stream",
     "text": [
      "[10 20 30]\n"
     ]
    }
   ],
   "source": [
    "# file name can be used to access content of age column\n",
    "dt = np.dtype([('age',np.int8)])\n",
    "a = np.array([(10,),(20,),(30,)], dtype=dt)\n",
    "print(a['age'])"
   ]
  },
  {
   "cell_type": "code",
   "execution_count": 16,
   "id": "bdad8f4e-4356-4cb9-a9cf-c259769500a6",
   "metadata": {},
   "outputs": [
    {
     "name": "stdout",
     "output_type": "stream",
     "text": [
      "[('name', 'S20'), ('age', 'i1'), ('marks', '<f4')]\n"
     ]
    }
   ],
   "source": [
    "student=np.dtype([('name','S20'), ('age', 'i1'), ('marks', 'f4')])\n",
    "print(student)"
   ]
  },
  {
   "cell_type": "code",
   "execution_count": 19,
   "id": "451d30c8-fb29-46c7-8559-560bc880d5f8",
   "metadata": {},
   "outputs": [
    {
     "name": "stdout",
     "output_type": "stream",
     "text": [
      "[(b'abc', 21, 50.) (b'xyz', 18, 75.)]\n"
     ]
    }
   ],
   "source": [
    "student=np.dtype([('name','S20'), ('age', 'i1'), ('marks', 'f4')])\n",
    "a = np.array([('abc', 21, 50),('xyz', 18, 75)], dtype=student)\n",
    "print(a)"
   ]
  },
  {
   "cell_type": "code",
   "execution_count": 20,
   "id": "ae2e60de-0768-430b-9817-d8c81281ae37",
   "metadata": {},
   "outputs": [],
   "source": [
    "# Each built-in data type has a character code that uniquely identifies it.\n",
    "# 'b': boolean\n",
    "# 'i': (signed) integer\n",
    "# 'u': unsigned integer\n",
    "# 'f': floating-point\n",
    "# 'c': complex-floating point\n",
    "# 'm': timedelta\n",
    "# 'M': datetime\n",
    "# 'O': (Python) objects\n",
    "# 'S', 'a': (byte-)string\n",
    "# 'U': Unicode\n",
    "# 'V': raw data (void)"
   ]
  },
  {
   "cell_type": "markdown",
   "id": "229e2a5d-51bc-465e-93a9-33b849725ce1",
   "metadata": {},
   "source": [
    "# 5. NUMPY − ARRAY ATTRIBUTES"
   ]
  },
  {
   "cell_type": "code",
   "execution_count": 22,
   "id": "9148a217-c594-4aad-9431-620fbd755f51",
   "metadata": {},
   "outputs": [
    {
     "name": "stdout",
     "output_type": "stream",
     "text": [
      "(2, 3)\n"
     ]
    }
   ],
   "source": [
    "a=np.array([[1,2,3],[4,5,6]])\n",
    "print(a.shape)"
   ]
  },
  {
   "cell_type": "code",
   "execution_count": 23,
   "id": "8026c1b7-c2bb-47c1-9f14-c2b4a45f9fb5",
   "metadata": {},
   "outputs": [
    {
     "name": "stdout",
     "output_type": "stream",
     "text": [
      "[[1 2]\n",
      " [3 4]\n",
      " [5 6]]\n"
     ]
    }
   ],
   "source": [
    "# this resizes the ndarray\n",
    "a=np.array([[1,2,3],[4,5,6]])\n",
    "a.shape=(3,2)\n",
    "print(a)"
   ]
  },
  {
   "cell_type": "code",
   "execution_count": 24,
   "id": "d3ecd51c-8429-4e80-914d-984556f58ce6",
   "metadata": {},
   "outputs": [
    {
     "name": "stdout",
     "output_type": "stream",
     "text": [
      "[[1 2]\n",
      " [3 4]\n",
      " [5 6]]\n"
     ]
    }
   ],
   "source": [
    "a = np.array([[1,2,3],[4,5,6]])\n",
    "b = a.reshape(3,2)\n",
    "print(b)"
   ]
  },
  {
   "cell_type": "code",
   "execution_count": 27,
   "id": "5f2e9bee-2774-4aaa-8356-96b6da45f416",
   "metadata": {},
   "outputs": [
    {
     "name": "stdout",
     "output_type": "stream",
     "text": [
      "[ 0  1  2  3  4  5  6  7  8  9 10 11 12 13 14 15 16 17 18 19 20 21 22 23]\n"
     ]
    }
   ],
   "source": [
    "# an array of evenly spaced numbers\n",
    "a = np.arange(24)\n",
    "print(a)"
   ]
  },
  {
   "cell_type": "code",
   "execution_count": 29,
   "id": "606358f7-6552-4668-97f3-f15c945d0edc",
   "metadata": {},
   "outputs": [
    {
     "name": "stdout",
     "output_type": "stream",
     "text": [
      "[[[ 0  1  2]\n",
      "  [ 3  4  5]\n",
      "  [ 6  7  8]\n",
      "  [ 9 10 11]]\n",
      "\n",
      " [[12 13 14]\n",
      "  [15 16 17]\n",
      "  [18 19 20]\n",
      "  [21 22 23]]]\n"
     ]
    }
   ],
   "source": [
    "# this is one dimensional array\n",
    "a = np.arange(24)\n",
    "a.ndim\n",
    "# now reshape it\n",
    "b = a.reshape(2,4,3)\n",
    "print(b)\n",
    "# b is having three dimensions"
   ]
  },
  {
   "cell_type": "code",
   "execution_count": 30,
   "id": "c4c22ca9-6d98-409d-852e-56fa447ae40b",
   "metadata": {},
   "outputs": [
    {
     "name": "stdout",
     "output_type": "stream",
     "text": [
      "1\n"
     ]
    }
   ],
   "source": [
    "# dtype of array is int8 (1 byte)\n",
    "x = np.array([1,2,3,4,5], dtype=np.int8)\n",
    "print(x.itemsize)"
   ]
  },
  {
   "cell_type": "code",
   "execution_count": 31,
   "id": "97707984-ca3a-4678-9e3d-76f30c9aa99e",
   "metadata": {},
   "outputs": [
    {
     "name": "stdout",
     "output_type": "stream",
     "text": [
      "4\n"
     ]
    }
   ],
   "source": [
    "# dtype of array is now float32 (4 bytes)\n",
    "x = np.array([1,2,3,4,5], dtype=np.float32)\n",
    "print (x.itemsize)"
   ]
  },
  {
   "cell_type": "code",
   "execution_count": 33,
   "id": "c63b6167-e1b1-46dd-9883-05ee49ce5f50",
   "metadata": {},
   "outputs": [
    {
     "name": "stdout",
     "output_type": "stream",
     "text": [
      "  C_CONTIGUOUS : True\n",
      "  F_CONTIGUOUS : True\n",
      "  OWNDATA : True\n",
      "  WRITEABLE : True\n",
      "  ALIGNED : True\n",
      "  WRITEBACKIFCOPY : False\n",
      "\n"
     ]
    }
   ],
   "source": [
    "x = np.array([1,2,3,4,5])\n",
    "print ( x.flags)"
   ]
  },
  {
   "cell_type": "markdown",
   "id": "bfcfde73-7322-42d4-8838-9d5d6afab526",
   "metadata": {},
   "source": [
    "# 6. NUMPY − ARRAY CREATION ROUTINES"
   ]
  },
  {
   "cell_type": "code",
   "execution_count": 34,
   "id": "894a6904-69ef-4f35-85f5-a2d8f4e4bc15",
   "metadata": {},
   "outputs": [],
   "source": [
    "# numpy.empty(shape, dtype=float, order='C')"
   ]
  },
  {
   "cell_type": "code",
   "execution_count": 41,
   "id": "246e1a5c-baa7-4d50-abd1-b3dd0e2bf669",
   "metadata": {},
   "outputs": [
    {
     "name": "stdout",
     "output_type": "stream",
     "text": [
      "[[1 2]\n",
      " [3 4]\n",
      " [5 6]]\n"
     ]
    }
   ],
   "source": [
    "x = np.empty([3,2], dtype=int)\n",
    "print(x)  # random values"
   ]
  },
  {
   "cell_type": "code",
   "execution_count": 46,
   "id": "b9cab19a-c578-46e8-89d4-c7f305cfbf76",
   "metadata": {},
   "outputs": [
    {
     "data": {
      "text/plain": [
       "array([[0., 0., 0., 0.],\n",
       "       [0., 0., 0., 0.],\n",
       "       [0., 0., 0., 0.]])"
      ]
     },
     "execution_count": 46,
     "metadata": {},
     "output_type": "execute_result"
    }
   ],
   "source": [
    "shape=(3,4)\n",
    "np.zeros(shape, dtype=float, order='C')"
   ]
  },
  {
   "cell_type": "code",
   "execution_count": 47,
   "id": "c14fc15f-044f-400c-8a6b-4984db0b9c51",
   "metadata": {},
   "outputs": [
    {
     "name": "stdout",
     "output_type": "stream",
     "text": [
      "[0. 0. 0. 0. 0.]\n"
     ]
    }
   ],
   "source": [
    "# array of five zeros. Default dtype is float\n",
    "x = np.zeros(5)\n",
    "print (x)"
   ]
  },
  {
   "cell_type": "code",
   "execution_count": 49,
   "id": "a034d50a-e404-496a-bd9a-4e0f34e835a6",
   "metadata": {},
   "outputs": [
    {
     "name": "stdout",
     "output_type": "stream",
     "text": [
      "[0 0 0 0 0]\n"
     ]
    }
   ],
   "source": [
    "x = np.zeros((5,),dtype=int)\n",
    "print (x)"
   ]
  },
  {
   "cell_type": "code",
   "execution_count": 51,
   "id": "e559822b-7625-4852-8f83-02ef78d71d7c",
   "metadata": {},
   "outputs": [
    {
     "name": "stdout",
     "output_type": "stream",
     "text": [
      "[[(0., 0) (0., 0)]\n",
      " [(0., 0) (0., 0)]]\n"
     ]
    }
   ],
   "source": [
    "x = np.zeros((2,2), dtype=[('x', 'f4'), ('y', 'i4')])\n",
    "print (x)"
   ]
  },
  {
   "cell_type": "code",
   "execution_count": 52,
   "id": "fb301bad-c806-41b9-b893-9e52b9e75300",
   "metadata": {},
   "outputs": [
    {
     "name": "stdout",
     "output_type": "stream",
     "text": [
      "[1. 1. 1. 1. 1.]\n"
     ]
    }
   ],
   "source": [
    "# array of five ones. Default dtype is float\n",
    "x = np.ones(5)\n",
    "print (x)"
   ]
  },
  {
   "cell_type": "code",
   "execution_count": 53,
   "id": "241f0f37-ea7d-4ada-9afa-88d91869931b",
   "metadata": {},
   "outputs": [
    {
     "name": "stdout",
     "output_type": "stream",
     "text": [
      "[[1 1]\n",
      " [1 1]]\n"
     ]
    }
   ],
   "source": [
    "x = np.ones([2,2], dtype=int)\n",
    "print (x)"
   ]
  },
  {
   "cell_type": "markdown",
   "id": "1c9d44b9-403b-4564-979e-1e246530c4a8",
   "metadata": {},
   "source": [
    "# 7. NUMPY − ARRAY FROM EXISTING DATA"
   ]
  },
  {
   "cell_type": "code",
   "execution_count": 54,
   "id": "60c6d02f-0f45-4432-9551-5938e47c09e2",
   "metadata": {},
   "outputs": [
    {
     "name": "stdout",
     "output_type": "stream",
     "text": [
      "[1 2 3]\n"
     ]
    }
   ],
   "source": [
    "# convert list to ndarray\n",
    "x = [1,2,3]\n",
    "a = np.asarray(x)\n",
    "print (a)"
   ]
  },
  {
   "cell_type": "code",
   "execution_count": 55,
   "id": "2150a31d-a670-4302-a0ff-9831afdbb4a5",
   "metadata": {},
   "outputs": [
    {
     "name": "stdout",
     "output_type": "stream",
     "text": [
      "[1. 2. 3.]\n"
     ]
    }
   ],
   "source": [
    "# dtype is float\n",
    "x = [1,2,3]\n",
    "a = np.asarray(x, dtype=float)\n",
    "print (a)"
   ]
  },
  {
   "cell_type": "code",
   "execution_count": 56,
   "id": "81012ee4-f93e-4c7f-af4e-b5b4c3c19a79",
   "metadata": {},
   "outputs": [
    {
     "name": "stdout",
     "output_type": "stream",
     "text": [
      "[1 2 3]\n"
     ]
    }
   ],
   "source": [
    "# ndarray from tuple\n",
    "x = (1,2,3)\n",
    "a = np.asarray(x)\n",
    "print(a)"
   ]
  },
  {
   "cell_type": "code",
   "execution_count": 60,
   "id": "c354d949-8e10-496b-a27e-8f804358af13",
   "metadata": {},
   "outputs": [
    {
     "name": "stdout",
     "output_type": "stream",
     "text": [
      "[(1, 2, 3) (4, 5)]\n"
     ]
    }
   ],
   "source": [
    "# ndarray from list of tuples\n",
    "x = [(1,2,3),(4,5)]\n",
    "a = np.asarray(x,dtype=object)\n",
    "print (a)"
   ]
  },
  {
   "cell_type": "code",
   "execution_count": 62,
   "id": "5e4d1390-5b45-4672-b632-020d373a3055",
   "metadata": {},
   "outputs": [
    {
     "name": "stdout",
     "output_type": "stream",
     "text": [
      "[b'H' b'e' b'l' b'l' b'o' b' ' b'W' b'o' b'r' b'l' b'd']\n"
     ]
    }
   ],
   "source": [
    "s = 'Hello World'\n",
    "a = np.frombuffer(s.encode(), dtype='S1')\n",
    "print(a)"
   ]
  },
  {
   "cell_type": "code",
   "execution_count": 63,
   "id": "9c8fb241-ade8-4775-a89a-8d4d8df66f5d",
   "metadata": {},
   "outputs": [
    {
     "name": "stdout",
     "output_type": "stream",
     "text": [
      "['H' 'e' 'l' 'l' 'o' ' ' 'W' 'o' 'r' 'l' 'd']\n"
     ]
    }
   ],
   "source": [
    "s = 'Hello World'\n",
    "a = np.array(list(s), dtype='U1')  # 'U1' = Unicode string of length 1\n",
    "print(a)"
   ]
  },
  {
   "cell_type": "code",
   "execution_count": 66,
   "id": "e784ec4d-9118-460e-ba51-3a7dfb37297a",
   "metadata": {},
   "outputs": [
    {
     "name": "stdout",
     "output_type": "stream",
     "text": [
      "range(0, 5)\n"
     ]
    }
   ],
   "source": [
    "list = range(5)\n",
    "print(list)"
   ]
  },
  {
   "cell_type": "code",
   "execution_count": 67,
   "id": "399916d4-6670-4afc-897d-133f69dad40a",
   "metadata": {},
   "outputs": [
    {
     "name": "stdout",
     "output_type": "stream",
     "text": [
      "[0. 1. 2. 3. 4.]\n"
     ]
    }
   ],
   "source": [
    "# obtain iterator object from list\n",
    "\n",
    "list = range(5)\n",
    "it = iter(list)\n",
    "# use iterator to create ndarray\n",
    "x = np.fromiter(it, dtype=float)\n",
    "print (x)"
   ]
  },
  {
   "cell_type": "markdown",
   "id": "23ac1f12-90c8-41b7-8f77-28a482cd23ad",
   "metadata": {},
   "source": [
    "# 8. NUMPY − ARRAY FROM NUMERICAL RANGES"
   ]
  },
  {
   "cell_type": "code",
   "execution_count": 69,
   "id": "97b1cd04-da64-4001-bc60-69cbc612623d",
   "metadata": {},
   "outputs": [
    {
     "name": "stdout",
     "output_type": "stream",
     "text": [
      "[0 1 2 3 4]\n"
     ]
    }
   ],
   "source": [
    "x = np.arange(5)\n",
    "print(x)"
   ]
  },
  {
   "cell_type": "code",
   "execution_count": 70,
   "id": "cc6a80aa-2321-4676-ad89-8e4d8dc3410c",
   "metadata": {},
   "outputs": [
    {
     "name": "stdout",
     "output_type": "stream",
     "text": [
      "[0. 1. 2. 3. 4.]\n"
     ]
    }
   ],
   "source": [
    "# dtype set\n",
    "x = np.arange(5, dtype=float)\n",
    "print(x)"
   ]
  },
  {
   "cell_type": "code",
   "execution_count": 71,
   "id": "8db0b38d-3ed0-4e84-af21-c340679e02ba",
   "metadata": {},
   "outputs": [
    {
     "name": "stdout",
     "output_type": "stream",
     "text": [
      "[10 12 14 16 18]\n"
     ]
    }
   ],
   "source": [
    "# start and stop parameters set\n",
    "x = np.arange(10,20,2)\n",
    "print (x)"
   ]
  },
  {
   "cell_type": "code",
   "execution_count": 72,
   "id": "aad8e092-c1af-408a-b770-3d9b7eb8a888",
   "metadata": {},
   "outputs": [
    {
     "name": "stdout",
     "output_type": "stream",
     "text": [
      "[ 0.   2.5  5.   7.5 10. ]\n"
     ]
    }
   ],
   "source": [
    "a = np.linspace(0, 10, num=5)\n",
    "print(a)"
   ]
  },
  {
   "cell_type": "code",
   "execution_count": null,
   "id": "89457358-d745-4fb4-8016-cb3887b71f8c",
   "metadata": {},
   "outputs": [],
   "source": []
  }
 ],
 "metadata": {
  "kernelspec": {
   "display_name": "Python 3 (ipykernel)",
   "language": "python",
   "name": "python3"
  },
  "language_info": {
   "codemirror_mode": {
    "name": "ipython",
    "version": 3
   },
   "file_extension": ".py",
   "mimetype": "text/x-python",
   "name": "python",
   "nbconvert_exporter": "python",
   "pygments_lexer": "ipython3",
   "version": "3.12.5"
  }
 },
 "nbformat": 4,
 "nbformat_minor": 5
}
